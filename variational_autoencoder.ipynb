{
 "cells": [
  {
   "cell_type": "code",
   "execution_count": 1,
   "metadata": {},
   "outputs": [],
   "source": [
    "import tensorflow as tf\n",
    "import numpy as np\n",
    "import os\n",
    "import sklearn\n",
    "import matplotlib.pyplot as plt\n",
    "import requests\n",
    "from datetime import datetime\n",
    "from tensorflow.keras.preprocessing.image import ImageDataGenerator\n",
    "from matplotlib.offsetbox import OffsetImage, AnnotationBbox\n",
    "from sklearn.manifold import TSNE\n",
    "from functools import reduce\n",
    "from tensorflow import keras as keras"
   ]
  },
  {
   "cell_type": "code",
   "execution_count": 2,
   "metadata": {},
   "outputs": [],
   "source": [
    "from tensorflow.keras.layers import Input, Dense, Conv2D, MaxPooling2D, UpSampling2D, Flatten, Dense, Reshape, Lambda\n",
    "from tensorflow.keras.models import Model\n",
    "from tensorflow.keras.callbacks import TensorBoard, ReduceLROnPlateau, EarlyStopping"
   ]
  },
  {
   "cell_type": "code",
   "execution_count": 3,
   "metadata": {},
   "outputs": [],
   "source": [
    "from tensorflow.keras.datasets import mnist"
   ]
  },
  {
   "cell_type": "code",
   "execution_count": 4,
   "metadata": {},
   "outputs": [],
   "source": [
    "(x_train, y_train), (x_test, y_test) = mnist.load_data()"
   ]
  },
  {
   "cell_type": "code",
   "execution_count": 5,
   "metadata": {},
   "outputs": [
    {
     "name": "stdout",
     "output_type": "stream",
     "text": [
      "(60000, 28, 28, 1)\n",
      "(10000, 28, 28, 1)\n"
     ]
    }
   ],
   "source": [
    "x_train = x_train.astype('float32') / 255.\n",
    "x_test = x_test.astype('float32') / 255.\n",
    "x_train = np.reshape(x_train, (len(x_train), 28, 28, 1))\n",
    "x_test = np.reshape(x_test, (len(x_test), 28, 28, 1)) \n",
    "print(x_train.shape)\n",
    "print(x_test.shape)"
   ]
  },
  {
   "cell_type": "code",
   "execution_count": 6,
   "metadata": {},
   "outputs": [
    {
     "data": {
      "text/plain": [
       "<matplotlib.image.AxesImage at 0x7f80feea0d90>"
      ]
     },
     "execution_count": 6,
     "metadata": {},
     "output_type": "execute_result"
    },
    {
     "data": {
      "image/png": "[encoded data removed]",
      "text/plain": [
       "<Figure size 432x288 with 1 Axes>"
      ]
     },
     "metadata": {
      "needs_background": "light"
     },
     "output_type": "display_data"
    }
   ],
   "source": [
    "plt.figure()\n",
    "plt.imshow(x_train[0, :, :, 0], cmap='gray')"
   ]
  },
  {
   "cell_type": "code",
   "execution_count": 7,
   "metadata": {},
   "outputs": [],
   "source": [
    "from tensorflow.keras import backend as K\n",
    "# reparameterization trick\n",
    "# instead of sampling from Q(z|X), sample epsilon = N(0,I)\n",
    "# z = z_mean + sqrt(var) * epsilon\n",
    "def sampling(args):\n",
    "    \"\"\"Reparameterization trick by sampling from an isotropic unit Gaussian.\n",
    "\n",
    "    # Arguments\n",
    "        args (tensor): mean and log of variance of Q(z|X)\n",
    "\n",
    "    # Returns\n",
    "        z (tensor): sampled latent vector\n",
    "    \"\"\"\n",
    "\n",
    "    z_mean, z_log_var = args\n",
    "    batch = K.shape(z_mean)[0]\n",
    "    dim = K.int_shape(z_mean)[1]\n",
    "    # by default, random_normal has mean = 0 and std = 1.0\n",
    "    epsilon = K.random_normal(shape=(batch, dim))\n",
    "    return z_mean + K.exp(0.5 * z_log_var) * epsilon"
   ]
  },
  {
   "cell_type": "code",
   "execution_count": 8,
   "metadata": {},
   "outputs": [],
   "source": [
    "BATCH_SIZE = 8\n",
    "IMG_HEIGHT = 28\n",
    "IMG_WIDTH = 28"
   ]
  },
  {
   "cell_type": "code",
   "execution_count": 9,
   "metadata": {},
   "outputs": [],
   "source": [
    "img_width, img_height = IMG_WIDTH, IMG_HEIGHT\n",
    "channels = 1"
   ]
  },
  {
   "cell_type": "code",
   "execution_count": 10,
   "metadata": {},
   "outputs": [],
   "source": [
    "latent_dim = 50\n",
    "conv_shape = (3, 3)"
   ]
  },
  {
   "cell_type": "code",
   "execution_count": 11,
   "metadata": {},
   "outputs": [],
   "source": [
    "input_img = Input(shape=(img_width, img_height, channels))\n",
    "x = Conv2D(filters=32, kernel_size=3, strides=(2, 2), activation='relu')(input_img)\n",
    "x = Conv2D(filters=64, kernel_size=3, strides=(2, 2), activation='relu')(x)\n",
    "x = Flatten()(x)\n",
    "x = Dense(2 * latent_dim)(x)\n",
    "x_split = tf.split(x, num_or_size_splits=2, axis=1, name='split')\n",
    "z = Lambda(sampling, output_shape=(latent_dim,), name='z')(x_split)"
   ]
  },
  {
   "cell_type": "code",
   "execution_count": 12,
   "metadata": {},
   "outputs": [
    {
     "name": "stdout",
     "output_type": "stream",
     "text": [
      "Model: \"encoder\"\n",
      "__________________________________________________________________________________________________\n",
      "Layer (type)                    Output Shape         Param #     Connected to                     \n",
      "==================================================================================================\n",
      "input_1 (InputLayer)            [(None, 28, 28, 1)]  0                                            \n",
      "__________________________________________________________________________________________________\n",
      "conv2d (Conv2D)                 (None, 13, 13, 32)   320         input_1[0][0]                    \n",
      "__________________________________________________________________________________________________\n",
      "conv2d_1 (Conv2D)               (None, 6, 6, 64)     18496       conv2d[0][0]                     \n",
      "__________________________________________________________________________________________________\n",
      "flatten (Flatten)               (None, 2304)         0           conv2d_1[0][0]                   \n",
      "__________________________________________________________________________________________________\n",
      "dense (Dense)                   (None, 100)          230500      flatten[0][0]                    \n",
      "__________________________________________________________________________________________________\n",
      "tf_op_layer_split (TensorFlowOp [(None, 50), (None,  0           dense[0][0]                      \n",
      "__________________________________________________________________________________________________\n",
      "z (Lambda)                      (None, 50)           0           tf_op_layer_split[0][0]          \n",
      "                                                                 tf_op_layer_split[0][1]          \n",
      "==================================================================================================\n",
      "Total params: 249,316\n",
      "Trainable params: 249,316\n",
      "Non-trainable params: 0\n",
      "__________________________________________________________________________________________________\n"
     ]
    }
   ],
   "source": [
    "encoder = Model(input_img, [x_split[0], x_split[1], z], name='encoder')\n",
    "encoder.summary()"
   ]
  },
  {
   "cell_type": "markdown",
   "metadata": {},
   "source": [
    "#### decoder"
   ]
  },
  {
   "cell_type": "code",
   "execution_count": 13,
   "metadata": {},
   "outputs": [
    {
     "data": {
      "text/plain": [
       "<tf.Tensor 'conv2d_transpose_2/Identity:0' shape=(None, 28, 28, 1) dtype=float32>"
      ]
     },
     "execution_count": 13,
     "metadata": {},
     "output_type": "execute_result"
    }
   ],
   "source": [
    "input_gen = Input(shape=(latent_dim,))\n",
    "y = Dense(units=32*7*7, activation='relu')(input_gen)\n",
    "y = keras.layers.Reshape((7,7,32))(y)\n",
    "y = keras.layers.Conv2DTranspose(\n",
    "    filters=64, kernel_size=3, strides=(2, 2), padding=\"SAME\", activation='relu')(y)\n",
    "y = keras.layers.Conv2DTranspose(\n",
    "    filters=32, kernel_size=3, strides=(2, 2), padding=\"SAME\", activation='relu')(y)\n",
    "y = keras.layers.Conv2DTranspose(\n",
    "    filters=1, kernel_size=3, strides=(1, 1), padding=\"SAME\")(y)\n",
    "y"
   ]
  },
  {
   "cell_type": "code",
   "execution_count": 14,
   "metadata": {},
   "outputs": [
    {
     "name": "stdout",
     "output_type": "stream",
     "text": [
      "Model: \"model\"\n",
      "_________________________________________________________________\n",
      "Layer (type)                 Output Shape              Param #   \n",
      "=================================================================\n",
      "input_2 (InputLayer)         [(None, 50)]              0         \n",
      "_________________________________________________________________\n",
      "dense_1 (Dense)              (None, 1568)              79968     \n",
      "_________________________________________________________________\n",
      "reshape (Reshape)            (None, 7, 7, 32)          0         \n",
      "_________________________________________________________________\n",
      "conv2d_transpose (Conv2DTran (None, 14, 14, 64)        18496     \n",
      "_________________________________________________________________\n",
      "conv2d_transpose_1 (Conv2DTr (None, 28, 28, 32)        18464     \n",
      "_________________________________________________________________\n",
      "conv2d_transpose_2 (Conv2DTr (None, 28, 28, 1)         289       \n",
      "=================================================================\n",
      "Total params: 117,217\n",
      "Trainable params: 117,217\n",
      "Non-trainable params: 0\n",
      "_________________________________________________________________\n"
     ]
    }
   ],
   "source": [
    "decoder = Model(input_gen, y)\n",
    "decoder.summary()"
   ]
  },
  {
   "cell_type": "code",
   "execution_count": 15,
   "metadata": {},
   "outputs": [],
   "source": [
    "output = decoder(encoder(input_img)[2])\n",
    "vae = Model(input_img, output)"
   ]
  },
  {
   "cell_type": "markdown",
   "metadata": {},
   "source": [
    "#### generate loss\n",
    "some references:\n",
    "- https://keras.io/examples/variational_autoencoder/\n",
    "- https://arxiv.org/pdf/1312.6114.pdf"
   ]
  },
  {
   "cell_type": "code",
   "execution_count": 16,
   "metadata": {},
   "outputs": [
    {
     "name": "stdout",
     "output_type": "stream",
     "text": [
      "WARNING:tensorflow:Output model missing from loss dictionary. We assume this was done on purpose. The fit and evaluate APIs will not be expecting any data to be passed to model.\n",
      "Model: \"model_1\"\n",
      "__________________________________________________________________________________________________\n",
      "Layer (type)                    Output Shape         Param #     Connected to                     \n",
      "==================================================================================================\n",
      "input_1 (InputLayer)            [(None, 28, 28, 1)]  0                                            \n",
      "__________________________________________________________________________________________________\n",
      "encoder (Model)                 [(None, 50), (None,  249316      input_1[0][0]                    \n",
      "__________________________________________________________________________________________________\n",
      "model (Model)                   (None, 28, 28, 1)    117217      encoder[1][2]                    \n",
      "__________________________________________________________________________________________________\n",
      "conv2d (Conv2D)                 (None, 13, 13, 32)   320         input_1[0][0]                    \n",
      "__________________________________________________________________________________________________\n",
      "conv2d_1 (Conv2D)               (None, 6, 6, 64)     18496       conv2d[0][0]                     \n",
      "__________________________________________________________________________________________________\n",
      "flatten (Flatten)               (None, 2304)         0           conv2d_1[0][0]                   \n",
      "__________________________________________________________________________________________________\n",
      "dense (Dense)                   (None, 100)          230500      flatten[0][0]                    \n",
      "__________________________________________________________________________________________________\n",
      "tf_op_layer_split (TensorFlowOp [(None, 50), (None,  0           dense[0][0]                      \n",
      "__________________________________________________________________________________________________\n",
      "tf_op_layer_add (TensorFlowOpLa [(None, 50)]         0           tf_op_layer_split[0][1]          \n",
      "__________________________________________________________________________________________________\n",
      "tf_op_layer_Square (TensorFlowO [(None, 50)]         0           tf_op_layer_split[0][0]          \n",
      "__________________________________________________________________________________________________\n",
      "flatten_2 (Flatten)             (None, 784)          0           model[1][0]                      \n",
      "__________________________________________________________________________________________________\n",
      "flatten_1 (Flatten)             (None, 784)          0           input_1[0][0]                    \n",
      "__________________________________________________________________________________________________\n",
      "tf_op_layer_sub (TensorFlowOpLa [(None, 50)]         0           tf_op_layer_add[0][0]            \n",
      "                                                                 tf_op_layer_Square[0][0]         \n",
      "__________________________________________________________________________________________________\n",
      "tf_op_layer_Exp (TensorFlowOpLa [(None, 50)]         0           tf_op_layer_split[0][1]          \n",
      "__________________________________________________________________________________________________\n",
      "tf_op_layer_SquaredDifference ( [(None, 784)]        0           flatten_2[0][0]                  \n",
      "                                                                 flatten_1[0][0]                  \n",
      "__________________________________________________________________________________________________\n",
      "tf_op_layer_sub_1 (TensorFlowOp [(None, 50)]         0           tf_op_layer_sub[0][0]            \n",
      "                                                                 tf_op_layer_Exp[0][0]            \n",
      "__________________________________________________________________________________________________\n",
      "tf_op_layer_Mean (TensorFlowOpL [(None,)]            0           tf_op_layer_SquaredDifference[0][\n",
      "__________________________________________________________________________________________________\n",
      "tf_op_layer_Sum (TensorFlowOpLa [(None,)]            0           tf_op_layer_sub_1[0][0]          \n",
      "__________________________________________________________________________________________________\n",
      "tf_op_layer_mul (TensorFlowOpLa [(None,)]            0           tf_op_layer_Mean[0][0]           \n",
      "__________________________________________________________________________________________________\n",
      "tf_op_layer_mul_1 (TensorFlowOp [(None,)]            0           tf_op_layer_Sum[0][0]            \n",
      "__________________________________________________________________________________________________\n",
      "tf_op_layer_add_1 (TensorFlowOp [(None,)]            0           tf_op_layer_mul[0][0]            \n",
      "                                                                 tf_op_layer_mul_1[0][0]          \n",
      "__________________________________________________________________________________________________\n",
      "tf_op_layer_Mean_1 (TensorFlowO [()]                 0           tf_op_layer_add_1[0][0]          \n",
      "__________________________________________________________________________________________________\n",
      "add_loss (AddLoss)              ()                   0           tf_op_layer_Mean_1[0][0]         \n",
      "==================================================================================================\n",
      "Total params: 366,533\n",
      "Trainable params: 366,533\n",
      "Non-trainable params: 0\n",
      "__________________________________________________________________________________________________\n"
     ]
    }
   ],
   "source": [
    "reconstruction_loss = keras.losses.mse(keras.layers.Flatten()(input_img), keras.layers.Flatten()(output))\n",
    "reconstruction_loss *= 28*28\n",
    "\n",
    "# custom\n",
    "# x = keras.layers.Flatten()(input_img)\n",
    "# hat_x = keras.layers.Flatten()(output)\n",
    "# reconstruction_loss = tf.math.reduce_sum(tf.math.squared_difference(x, hat_x), axis=1)\n",
    "## x_split = [z_mean, z_log_var] | 2 * (None, latent_space)\n",
    "\n",
    "# kl_loss_t = 1 + x_split[1] - tf.math.square(x_split[0]) - tf.math.exp(x_split[1])\n",
    "# kl_loss_summed = tf.math.reduce_sum(kl_loss_t, axis=1)\n",
    "# kl_loss = -0.5 * kl_loss_summed\n",
    "\n",
    "kl_loss = 1 + x_split[1] - K.square(x_split[0]) - K.exp(x_split[1])\n",
    "kl_loss = K.sum(kl_loss, axis=1)\n",
    "kl_loss = -0.5 * kl_loss\n",
    "vae_loss = K.mean(reconstruction_loss + kl_loss)\n",
    "vae.add_loss(vae_loss)\n",
    "vae.compile(optimizer='adam')\n",
    "\n",
    "vae.summary()\n"
   ]
  },
  {
   "cell_type": "code",
   "execution_count": 17,
   "metadata": {},
   "outputs": [],
   "source": [
    "log_dir = \"./logs/\" + datetime.now().strftime(\"%Y%m%d-%H%M%S\")\n",
    "tb_cb = TensorBoard(\n",
    "    log_dir=log_dir, \n",
    "    profile_batch=0)\n",
    "\n",
    "es_cb = EarlyStopping(\n",
    "    monitor='val_loss',\n",
    "    verbose=True,\n",
    "    patience=12,\n",
    "    min_delta=0.0001, \n",
    "    restore_best_weights=True)\n",
    "\n",
    "lr_cb = ReduceLROnPlateau(\n",
    "    monitor='val_loss',\n",
    "    verbose=True,\n",
    "    patience=8,\n",
    "    mi_delta=0.0001)\n",
    "\n",
    "cb = [tb_cb, es_cb, lr_cb]"
   ]
  },
  {
   "cell_type": "code",
   "execution_count": 18,
   "metadata": {},
   "outputs": [
    {
     "name": "stdout",
     "output_type": "stream",
     "text": [
      "Train on 60000 samples, validate on 10000 samples\n",
      "Epoch 1/200\n",
      "60000/60000 [==============================] - 13s 209us/sample - loss: 37.7107 - val_loss: 32.6639\n",
      "Epoch 2/200\n",
      "60000/60000 [==============================] - 10s 164us/sample - loss: 32.1293 - val_loss: 31.2580\n",
      "Epoch 3/200\n",
      "60000/60000 [==============================] - 10s 165us/sample - loss: 30.9792 - val_loss: 30.4649\n",
      "Epoch 4/200\n",
      "60000/60000 [==============================] - 10s 165us/sample - loss: 30.3697 - val_loss: 29.9482\n",
      "Epoch 5/200\n",
      "60000/60000 [==============================] - 10s 164us/sample - loss: 30.0081 - val_loss: 29.8637\n",
      "Epoch 6/200\n",
      "60000/60000 [==============================] - 10s 165us/sample - loss: 29.6970 - val_loss: 29.3470\n",
      "Epoch 7/200\n",
      "60000/60000 [==============================] - 10s 165us/sample - loss: 29.4413 - val_loss: 29.1288\n",
      "Epoch 8/200\n",
      "60000/60000 [==============================] - 10s 164us/sample - loss: 29.2444 - val_loss: 29.0941\n",
      "Epoch 9/200\n",
      "60000/60000 [==============================] - 10s 165us/sample - loss: 29.1439 - val_loss: 28.7610\n",
      "Epoch 10/200\n",
      "60000/60000 [==============================] - 10s 164us/sample - loss: 29.0182 - val_loss: 28.7551\n",
      "Epoch 11/200\n",
      "60000/60000 [==============================] - 10s 164us/sample - loss: 28.9058 - val_loss: 28.6842\n",
      "Epoch 12/200\n",
      "60000/60000 [==============================] - 10s 165us/sample - loss: 28.7921 - val_loss: 28.6072\n",
      "Epoch 13/200\n",
      "60000/60000 [==============================] - 10s 165us/sample - loss: 28.7287 - val_loss: 28.5532\n",
      "Epoch 14/200\n",
      "60000/60000 [==============================] - 10s 164us/sample - loss: 28.6344 - val_loss: 28.4272\n",
      "Epoch 15/200\n",
      "60000/60000 [==============================] - 10s 164us/sample - loss: 28.6018 - val_loss: 28.3968\n",
      "Epoch 16/200\n",
      "60000/60000 [==============================] - 10s 164us/sample - loss: 28.5132 - val_loss: 28.3307\n",
      "Epoch 17/200\n",
      "60000/60000 [==============================] - 10s 165us/sample - loss: 28.4520 - val_loss: 28.2548\n",
      "Epoch 18/200\n",
      "60000/60000 [==============================] - 10s 164us/sample - loss: 28.3969 - val_loss: 28.3691\n",
      "Epoch 19/200\n",
      "60000/60000 [==============================] - 10s 164us/sample - loss: 28.3556 - val_loss: 28.2704\n",
      "Epoch 20/200\n",
      "60000/60000 [==============================] - 10s 164us/sample - loss: 28.3314 - val_loss: 28.1059\n",
      "Epoch 21/200\n",
      "60000/60000 [==============================] - 10s 165us/sample - loss: 28.2908 - val_loss: 28.0991\n",
      "Epoch 22/200\n",
      "60000/60000 [==============================] - 10s 165us/sample - loss: 28.2536 - val_loss: 28.3034\n",
      "Epoch 23/200\n",
      "60000/60000 [==============================] - 10s 165us/sample - loss: 28.2037 - val_loss: 28.2093\n",
      "Epoch 24/200\n",
      "60000/60000 [==============================] - 10s 164us/sample - loss: 28.1725 - val_loss: 28.1458\n",
      "Epoch 25/200\n",
      "60000/60000 [==============================] - 10s 164us/sample - loss: 28.1267 - val_loss: 28.0068\n",
      "Epoch 26/200\n",
      "60000/60000 [==============================] - 10s 164us/sample - loss: 28.1101 - val_loss: 27.9293\n",
      "Epoch 27/200\n",
      "60000/60000 [==============================] - 10s 164us/sample - loss: 28.0976 - val_loss: 27.8918\n",
      "Epoch 28/200\n",
      "60000/60000 [==============================] - 10s 164us/sample - loss: 28.0659 - val_loss: 27.9919\n",
      "Epoch 29/200\n",
      "60000/60000 [==============================] - 10s 165us/sample - loss: 28.0323 - val_loss: 27.8604\n",
      "Epoch 30/200\n",
      "60000/60000 [==============================] - 10s 164us/sample - loss: 28.0045 - val_loss: 27.9758\n",
      "Epoch 31/200\n",
      "60000/60000 [==============================] - 10s 164us/sample - loss: 27.9660 - val_loss: 27.9413\n",
      "Epoch 32/200\n",
      "60000/60000 [==============================] - 10s 165us/sample - loss: 28.0035 - val_loss: 27.8304\n",
      "Epoch 33/200\n",
      "60000/60000 [==============================] - 10s 164us/sample - loss: 27.9520 - val_loss: 27.8094\n",
      "Epoch 34/200\n",
      "60000/60000 [==============================] - 10s 165us/sample - loss: 27.9122 - val_loss: 27.9345\n",
      "Epoch 35/200\n",
      "60000/60000 [==============================] - 10s 164us/sample - loss: 27.9010 - val_loss: 27.9762\n",
      "Epoch 36/200\n",
      "60000/60000 [==============================] - 10s 164us/sample - loss: 27.8877 - val_loss: 27.7537\n",
      "Epoch 37/200\n",
      "60000/60000 [==============================] - 10s 164us/sample - loss: 27.8715 - val_loss: 27.9073\n",
      "Epoch 38/200\n",
      "60000/60000 [==============================] - 10s 165us/sample - loss: 27.8569 - val_loss: 27.7963\n",
      "Epoch 39/200\n",
      "60000/60000 [==============================] - 10s 164us/sample - loss: 27.8590 - val_loss: 27.6988\n",
      "Epoch 40/200\n",
      "60000/60000 [==============================] - 10s 164us/sample - loss: 27.8293 - val_loss: 27.7890\n",
      "Epoch 41/200\n",
      "60000/60000 [==============================] - 10s 164us/sample - loss: 27.8238 - val_loss: 27.7120\n",
      "Epoch 42/200\n",
      "60000/60000 [==============================] - 10s 165us/sample - loss: 27.8212 - val_loss: 27.6873\n",
      "Epoch 43/200\n",
      "60000/60000 [==============================] - 10s 165us/sample - loss: 27.7948 - val_loss: 27.7625\n",
      "Epoch 44/200\n",
      "60000/60000 [==============================] - 10s 164us/sample - loss: 27.7917 - val_loss: 27.8881\n",
      "Epoch 45/200\n",
      "60000/60000 [==============================] - 10s 164us/sample - loss: 27.7730 - val_loss: 27.7623\n",
      "Epoch 46/200\n",
      "60000/60000 [==============================] - 10s 164us/sample - loss: 27.7677 - val_loss: 27.6876\n",
      "Epoch 47/200\n",
      "60000/60000 [==============================] - 10s 164us/sample - loss: 27.7642 - val_loss: 27.7081\n",
      "Epoch 48/200\n",
      "60000/60000 [==============================] - 10s 164us/sample - loss: 27.7220 - val_loss: 27.5569\n",
      "Epoch 49/200\n",
      "60000/60000 [==============================] - 10s 164us/sample - loss: 27.7021 - val_loss: 27.6439\n",
      "Epoch 50/200\n",
      "60000/60000 [==============================] - 10s 164us/sample - loss: 27.7241 - val_loss: 27.7539\n",
      "Epoch 51/200\n",
      "60000/60000 [==============================] - 10s 164us/sample - loss: 27.7106 - val_loss: 27.6118\n",
      "Epoch 52/200\n",
      "60000/60000 [==============================] - 10s 164us/sample - loss: 27.7059 - val_loss: 27.5898\n",
      "Epoch 53/200\n",
      "60000/60000 [==============================] - 10s 165us/sample - loss: 27.6807 - val_loss: 27.5871\n",
      "Epoch 54/200\n",
      "60000/60000 [==============================] - 10s 165us/sample - loss: 27.6958 - val_loss: 27.7225\n",
      "Epoch 55/200\n",
      "60000/60000 [==============================] - 10s 165us/sample - loss: 27.6681 - val_loss: 27.5865\n",
      "Epoch 56/200\n",
      "59648/60000 [============================>.] - ETA: 0s - loss: 27.6723\n",
      "Epoch 00056: ReduceLROnPlateau reducing learning rate to 0.00010000000474974513.\n",
      "60000/60000 [==============================] - 10s 165us/sample - loss: 27.6712 - val_loss: 27.5889\n",
      "Epoch 57/200\n",
      "60000/60000 [==============================] - 10s 164us/sample - loss: 27.2961 - val_loss: 27.2242\n",
      "Epoch 58/200\n",
      "60000/60000 [==============================] - 10s 164us/sample - loss: 27.1913 - val_loss: 27.1986\n",
      "Epoch 59/200\n",
      "60000/60000 [==============================] - 10s 165us/sample - loss: 27.1610 - val_loss: 27.1953\n",
      "Epoch 60/200\n",
      "60000/60000 [==============================] - 10s 164us/sample - loss: 27.1397 - val_loss: 27.1461\n",
      "Epoch 61/200\n",
      "60000/60000 [==============================] - 10s 165us/sample - loss: 27.0910 - val_loss: 27.1248\n",
      "Epoch 62/200\n",
      "60000/60000 [==============================] - 10s 164us/sample - loss: 27.0687 - val_loss: 27.0685\n",
      "Epoch 63/200\n",
      "60000/60000 [==============================] - 10s 164us/sample - loss: 27.0597 - val_loss: 27.1279\n",
      "Epoch 64/200\n",
      "60000/60000 [==============================] - 10s 163us/sample - loss: 27.0717 - val_loss: 27.1353\n",
      "Epoch 65/200\n",
      "60000/60000 [==============================] - 10s 164us/sample - loss: 27.0492 - val_loss: 27.0395\n",
      "Epoch 66/200\n",
      "60000/60000 [==============================] - 10s 164us/sample - loss: 27.0452 - val_loss: 27.1142\n",
      "Epoch 67/200\n",
      "60000/60000 [==============================] - 10s 164us/sample - loss: 27.0400 - val_loss: 27.0696\n",
      "Epoch 68/200\n",
      "60000/60000 [==============================] - 10s 164us/sample - loss: 27.0589 - val_loss: 27.0759\n",
      "Epoch 69/200\n",
      "60000/60000 [==============================] - 10s 164us/sample - loss: 27.0300 - val_loss: 27.0734\n",
      "Epoch 70/200\n",
      "60000/60000 [==============================] - 10s 164us/sample - loss: 27.0375 - val_loss: 27.0779\n",
      "Epoch 71/200\n",
      "60000/60000 [==============================] - 10s 164us/sample - loss: 27.0309 - val_loss: 27.0582\n"
     ]
    },
    {
     "name": "stdout",
     "output_type": "stream",
     "text": [
      "Epoch 72/200\n",
      "60000/60000 [==============================] - 10s 164us/sample - loss: 27.0264 - val_loss: 27.1106\n",
      "Epoch 73/200\n",
      "60000/60000 [==============================] - 10s 164us/sample - loss: 27.0392 - val_loss: 27.0343\n",
      "Epoch 74/200\n",
      "60000/60000 [==============================] - 10s 165us/sample - loss: 27.0176 - val_loss: 27.0962\n",
      "Epoch 75/200\n",
      "60000/60000 [==============================] - 10s 164us/sample - loss: 27.0077 - val_loss: 27.0387\n",
      "Epoch 76/200\n",
      "60000/60000 [==============================] - 10s 165us/sample - loss: 26.9975 - val_loss: 27.0752\n",
      "Epoch 77/200\n",
      "60000/60000 [==============================] - 10s 164us/sample - loss: 26.9763 - val_loss: 27.0624\n",
      "Epoch 78/200\n",
      "60000/60000 [==============================] - 10s 165us/sample - loss: 27.0125 - val_loss: 27.0332\n",
      "Epoch 79/200\n",
      "60000/60000 [==============================] - 10s 164us/sample - loss: 26.9791 - val_loss: 27.0533\n",
      "Epoch 80/200\n",
      "60000/60000 [==============================] - 10s 164us/sample - loss: 26.9962 - val_loss: 27.0749\n",
      "Epoch 81/200\n",
      "60000/60000 [==============================] - 10s 164us/sample - loss: 26.9708 - val_loss: 27.0547\n",
      "Epoch 82/200\n",
      "60000/60000 [==============================] - 10s 164us/sample - loss: 26.9869 - val_loss: 27.0542\n",
      "Epoch 83/200\n",
      "60000/60000 [==============================] - 10s 164us/sample - loss: 26.9708 - val_loss: 27.0485\n",
      "Epoch 84/200\n",
      "60000/60000 [==============================] - 10s 164us/sample - loss: 26.9580 - val_loss: 27.0448\n",
      "Epoch 85/200\n",
      "60000/60000 [==============================] - 10s 164us/sample - loss: 26.9818 - val_loss: 27.0018\n",
      "Epoch 86/200\n",
      "60000/60000 [==============================] - 10s 165us/sample - loss: 26.9660 - val_loss: 27.0709\n",
      "Epoch 87/200\n",
      "60000/60000 [==============================] - 10s 165us/sample - loss: 26.9658 - val_loss: 27.0549\n",
      "Epoch 88/200\n",
      "60000/60000 [==============================] - 10s 165us/sample - loss: 26.9654 - val_loss: 27.0822\n",
      "Epoch 89/200\n",
      "60000/60000 [==============================] - 10s 164us/sample - loss: 26.9599 - val_loss: 27.0741\n",
      "Epoch 90/200\n",
      "60000/60000 [==============================] - 10s 164us/sample - loss: 26.9632 - val_loss: 27.0454\n",
      "Epoch 91/200\n",
      "60000/60000 [==============================] - 10s 164us/sample - loss: 26.9783 - val_loss: 27.0051\n",
      "Epoch 92/200\n",
      "60000/60000 [==============================] - 10s 164us/sample - loss: 26.9683 - val_loss: 27.0920\n",
      "Epoch 93/200\n",
      "59872/60000 [============================>.] - ETA: 0s - loss: 26.9605\n",
      "Epoch 00093: ReduceLROnPlateau reducing learning rate to 1.0000000474974514e-05.\n",
      "60000/60000 [==============================] - 10s 165us/sample - loss: 26.9620 - val_loss: 27.0106\n",
      "Epoch 94/200\n",
      "60000/60000 [==============================] - 10s 164us/sample - loss: 26.9119 - val_loss: 27.0341\n",
      "Epoch 95/200\n",
      "60000/60000 [==============================] - 10s 164us/sample - loss: 26.9188 - val_loss: 27.0452\n",
      "Epoch 96/200\n",
      "60000/60000 [==============================] - 10s 164us/sample - loss: 26.9083 - val_loss: 26.9294\n",
      "Epoch 97/200\n",
      "60000/60000 [==============================] - 10s 164us/sample - loss: 26.8912 - val_loss: 27.0141\n",
      "Epoch 98/200\n",
      "60000/60000 [==============================] - 10s 164us/sample - loss: 26.9282 - val_loss: 27.0088\n",
      "Epoch 99/200\n",
      "60000/60000 [==============================] - 10s 165us/sample - loss: 26.8930 - val_loss: 26.9773\n",
      "Epoch 100/200\n",
      "60000/60000 [==============================] - 10s 164us/sample - loss: 26.9040 - val_loss: 26.9148\n",
      "Epoch 101/200\n",
      "60000/60000 [==============================] - 10s 165us/sample - loss: 26.9013 - val_loss: 27.0281\n",
      "Epoch 102/200\n",
      "60000/60000 [==============================] - 10s 164us/sample - loss: 26.9056 - val_loss: 27.0067\n",
      "Epoch 103/200\n",
      "60000/60000 [==============================] - 10s 165us/sample - loss: 26.8959 - val_loss: 26.9576\n",
      "Epoch 104/200\n",
      "60000/60000 [==============================] - 10s 165us/sample - loss: 26.8837 - val_loss: 27.0144\n",
      "Epoch 105/200\n",
      "60000/60000 [==============================] - 10s 164us/sample - loss: 26.9131 - val_loss: 26.9899\n",
      "Epoch 106/200\n",
      "60000/60000 [==============================] - 10s 165us/sample - loss: 26.9094 - val_loss: 26.9442\n",
      "Epoch 107/200\n",
      "60000/60000 [==============================] - 10s 164us/sample - loss: 26.9067 - val_loss: 26.9640\n",
      "Epoch 108/200\n",
      "59936/60000 [============================>.] - ETA: 0s - loss: 26.9024\n",
      "Epoch 00108: ReduceLROnPlateau reducing learning rate to 1.0000000656873453e-06.\n",
      "60000/60000 [==============================] - 10s 165us/sample - loss: 26.9024 - val_loss: 27.0009\n",
      "Epoch 109/200\n",
      "60000/60000 [==============================] - 10s 164us/sample - loss: 26.8833 - val_loss: 26.9869\n",
      "Epoch 110/200\n",
      "60000/60000 [==============================] - 10s 165us/sample - loss: 26.8768 - val_loss: 26.9736\n",
      "Epoch 111/200\n",
      "60000/60000 [==============================] - 10s 164us/sample - loss: 26.9025 - val_loss: 26.9781\n",
      "Epoch 112/200\n",
      "59968/60000 [============================>.] - ETA: 0s - loss: 26.9037Restoring model weights from the end of the best epoch.\n",
      "60000/60000 [==============================] - 10s 165us/sample - loss: 26.9046 - val_loss: 26.9368\n",
      "Epoch 00112: early stopping\n"
     ]
    }
   ],
   "source": [
    "epochs = 200\n",
    "\n",
    "autoencoder_train = vae.fit(\n",
    "    x=x_train, \n",
    "    epochs=epochs, \n",
    "    shuffle=True,\n",
    "    validation_data=(x_test, None),\n",
    "    callbacks=cb)"
   ]
  },
  {
   "cell_type": "code",
   "execution_count": 19,
   "metadata": {},
   "outputs": [
    {
     "data": {
      "text/plain": [
       "<bound method Network.summary of <tensorflow.python.keras.engine.training.Model object at 0x7f80f04b5a50>>"
      ]
     },
     "execution_count": 19,
     "metadata": {},
     "output_type": "execute_result"
    }
   ],
   "source": [
    "vae.summary"
   ]
  },
  {
   "cell_type": "code",
   "execution_count": 31,
   "metadata": {},
   "outputs": [
    {
     "name": "stdout",
     "output_type": "stream",
     "text": [
      "WARNING:tensorflow:Found duplicated `Variable`s in Model's `weights`. This is usually caused by `Variable`s being shared by Layers in the Model. These `Variable`s will be treated as separate `Variable`s when the Model is restored. To avoid this, please save with `save_format=\"tf\"`.\n"
     ]
    }
   ],
   "source": [
    "saved = False\n",
    "if not saved:\n",
    "    vae.save('./vae_keras_model_{}.hdf5'.format(epochs))\n",
    "    encoder.save('./vae_encoder_keras_model_{}.hdf5'.format(epochs))\n",
    "    decoder.save('./vae_decoder_keras_model_{}.hdf5'.format(epochs))    \n",
    "    saved = True\n",
    "\n"
   ]
  },
  {
   "cell_type": "markdown",
   "metadata": {},
   "source": [
    "### load model"
   ]
  },
  {
   "cell_type": "code",
   "execution_count": 21,
   "metadata": {},
   "outputs": [
    {
     "name": "stdout",
     "output_type": "stream",
     "text": [
      "WARNING:tensorflow:Output model missing from loss dictionary. We assume this was done on purpose. The fit and evaluate APIs will not be expecting any data to be passed to model.\n",
      "WARNING:tensorflow:Error in loading the saved optimizer state. As a result, your model is starting with a freshly initialized optimizer.\n"
     ]
    }
   ],
   "source": [
    "loaded_model = tf.keras.models.load_model('./vae_model_100.hdf5')"
   ]
  },
  {
   "cell_type": "code",
   "execution_count": 22,
   "metadata": {},
   "outputs": [
    {
     "data": {
      "text/plain": [
       "[<tensorflow.python.keras.engine.input_layer.InputLayer at 0x7f80e00b8190>,\n",
       " <tensorflow.python.keras.engine.training.Model at 0x7f80f0349d90>,\n",
       " <tensorflow.python.keras.engine.training.Model at 0x7f80e00ed2d0>,\n",
       " <tensorflow.python.keras.layers.convolutional.Conv2D at 0x7f80e00420d0>,\n",
       " <tensorflow.python.keras.layers.convolutional.Conv2D at 0x7f80e00467d0>,\n",
       " <tensorflow.python.keras.layers.core.Flatten at 0x7f80e0046d50>,\n",
       " <tensorflow.python.keras.layers.core.Dense at 0x7f80e00b2490>,\n",
       " <tensorflow.python.keras.engine.base_layer.TensorFlowOpLayer at 0x7f80e004c290>,\n",
       " <tensorflow.python.keras.engine.base_layer.TensorFlowOpLayer at 0x7f80e00e4ed0>,\n",
       " <tensorflow.python.keras.engine.base_layer.TensorFlowOpLayer at 0x7f80e004c350>,\n",
       " <tensorflow.python.keras.layers.core.Flatten at 0x7f80e004cb50>,\n",
       " <tensorflow.python.keras.layers.core.Flatten at 0x7f80e004cf10>,\n",
       " <tensorflow.python.keras.engine.base_layer.TensorFlowOpLayer at 0x7f80e004c650>,\n",
       " <tensorflow.python.keras.engine.base_layer.TensorFlowOpLayer at 0x7f80e004c750>,\n",
       " <tensorflow.python.keras.engine.base_layer.TensorFlowOpLayer at 0x7f80e00565d0>,\n",
       " <tensorflow.python.keras.engine.base_layer.TensorFlowOpLayer at 0x7f80e0056610>,\n",
       " <tensorflow.python.keras.engine.base_layer.TensorFlowOpLayer at 0x7f80e0056290>,\n",
       " <tensorflow.python.keras.engine.base_layer.TensorFlowOpLayer at 0x7f80e0056650>,\n",
       " <tensorflow.python.keras.engine.base_layer.TensorFlowOpLayer at 0x7f80e0056550>,\n",
       " <tensorflow.python.keras.engine.base_layer.TensorFlowOpLayer at 0x7f80e0087cd0>,\n",
       " <tensorflow.python.keras.engine.base_layer.TensorFlowOpLayer at 0x7f80e0065510>,\n",
       " <tensorflow.python.keras.engine.base_layer.TensorFlowOpLayer at 0x7f80e00653d0>,\n",
       " <tensorflow.python.keras.engine.base_layer.AddLoss at 0x7f80e0065c10>]"
      ]
     },
     "execution_count": 22,
     "metadata": {},
     "output_type": "execute_result"
    }
   ],
   "source": [
    "loaded_model.layers"
   ]
  },
  {
   "cell_type": "markdown",
   "metadata": {},
   "source": [
    "#### generative process"
   ]
  },
  {
   "cell_type": "code",
   "execution_count": 27,
   "metadata": {},
   "outputs": [],
   "source": [
    "n_examples = 16"
   ]
  },
  {
   "cell_type": "code",
   "execution_count": 28,
   "metadata": {},
   "outputs": [],
   "source": [
    "examples = tf.random.normal(shape=[n_examples, latent_dim])"
   ]
  },
  {
   "cell_type": "code",
   "execution_count": 29,
   "metadata": {},
   "outputs": [],
   "source": [
    "generated = decoder.predict(examples)"
   ]
  },
  {
   "cell_type": "code",
   "execution_count": 30,
   "metadata": {},
   "outputs": [
    {
     "data": {
      "image/png": "[encoded data removed]",
      "text/plain": [
       "<Figure size 576x576 with 16 Axes>"
      ]
     },
     "metadata": {
      "needs_background": "light"
     },
     "output_type": "display_data"
    }
   ],
   "source": [
    "plt.figure(figsize=(8,8))\n",
    "for i, gen in enumerate(generated):\n",
    "    plt.subplot(4, 4, i+1)\n",
    "    plt.imshow(gen[:,:,0], cmap='gray')"
   ]
  },
  {
   "cell_type": "code",
   "execution_count": 33,
   "metadata": {},
   "outputs": [
    {
     "data": {
      "text/plain": [
       "array([[-4.,  4.]])"
      ]
     },
     "execution_count": 33,
     "metadata": {},
     "output_type": "execute_result"
    }
   ],
   "source": [
    "z_sample"
   ]
  },
  {
   "cell_type": "code",
   "execution_count": null,
   "metadata": {},
   "outputs": [],
   "source": []
  }
 ],
 "metadata": {
  "kernelspec": {
   "display_name": "Python 3",
   "language": "python",
   "name": "python3"
  },
  "language_info": {
   "codemirror_mode": {
    "name": "ipython",
    "version": 3
   },
   "file_extension": ".py",
   "mimetype": "text/x-python",
   "name": "python",
   "nbconvert_exporter": "python",
   "pygments_lexer": "ipython3",
   "version": "3.7.6"
  }
 },
 "nbformat": 4,
 "nbformat_minor": 4
}

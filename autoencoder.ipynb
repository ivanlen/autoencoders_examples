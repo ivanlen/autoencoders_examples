{
 "cells": [
  {
   "cell_type": "code",
   "execution_count": 1,
   "metadata": {},
   "outputs": [],
   "source": [
    "import tensorflow as tf\n",
    "import numpy as np\n",
    "import os\n",
    "import sklearn\n",
    "import matplotlib.pyplot as plt\n",
    "import requests\n",
    "from datetime import datetime\n",
    "# from PIL import Image\n",
    "from tensorflow.keras.preprocessing.image import ImageDataGenerator\n",
    "from matplotlib.offsetbox import OffsetImage, AnnotationBbox\n",
    "from sklearn.manifold import TSNE\n",
    "from functools import reduce\n",
    "from tensorflow import keras"
   ]
  },
  {
   "cell_type": "code",
   "execution_count": 2,
   "metadata": {},
   "outputs": [],
   "source": [
    "from tensorflow.keras.layers import Input, Dense, Conv2D, MaxPooling2D, UpSampling2D, Flatten, Dense, Reshape\n",
    "from tensorflow.keras.models import Model\n",
    "from tensorflow.keras.callbacks import TensorBoard, ReduceLROnPlateau, EarlyStopping"
   ]
  },
  {
   "cell_type": "code",
   "execution_count": 3,
   "metadata": {},
   "outputs": [],
   "source": [
    "from tensorflow.keras.datasets import mnist"
   ]
  },
  {
   "cell_type": "code",
   "execution_count": 4,
   "metadata": {},
   "outputs": [],
   "source": [
    "(x_train, y_train), (x_test, y_test) = mnist.load_data()"
   ]
  },
  {
   "cell_type": "code",
   "execution_count": 5,
   "metadata": {},
   "outputs": [
    {
     "name": "stdout",
     "output_type": "stream",
     "text": [
      "(60000, 28, 28, 1)\n",
      "(10000, 28, 28, 1)\n"
     ]
    }
   ],
   "source": [
    "x_train = x_train.astype('float32') / 255.\n",
    "x_test = x_test.astype('float32') / 255.\n",
    "x_train = np.reshape(x_train, (len(x_train), 28, 28, 1))\n",
    "x_test = np.reshape(x_test, (len(x_test), 28, 28, 1)) \n",
    "print(x_train.shape)\n",
    "print(x_test.shape)"
   ]
  },
  {
   "cell_type": "code",
   "execution_count": 6,
   "metadata": {},
   "outputs": [
    {
     "data": {
      "text/plain": [
       "<matplotlib.image.AxesImage at 0x7ff1cbfd4f90>"
      ]
     },
     "execution_count": 6,
     "metadata": {},
     "output_type": "execute_result"
    },
    {
     "data": {
      "image/png": "[encoded data removed]",
      "text/plain": [
       "<Figure size 432x288 with 1 Axes>"
      ]
     },
     "metadata": {
      "needs_background": "light"
     },
     "output_type": "display_data"
    }
   ],
   "source": [
    "plt.figure()\n",
    "plt.imshow(x_train[0, :, :, 0], cmap='gray')"
   ]
  },
  {
   "cell_type": "code",
   "execution_count": 7,
   "metadata": {},
   "outputs": [],
   "source": [
    "BATCH_SIZE = 8\n",
    "IMG_HEIGHT = 28\n",
    "IMG_WIDTH = 28"
   ]
  },
  {
   "cell_type": "code",
   "execution_count": 8,
   "metadata": {},
   "outputs": [],
   "source": [
    "img_width, img_height = IMG_WIDTH, IMG_HEIGHT\n",
    "channels = 1"
   ]
  },
  {
   "cell_type": "code",
   "execution_count": 9,
   "metadata": {},
   "outputs": [],
   "source": [
    "input_img = Input(shape=(img_width, img_height, channels))"
   ]
  },
  {
   "cell_type": "code",
   "execution_count": 10,
   "metadata": {},
   "outputs": [
    {
     "data": {
      "text/plain": [
       "<tf.Tensor 'input_1:0' shape=(None, 28, 28, 1) dtype=float32>"
      ]
     },
     "execution_count": 10,
     "metadata": {},
     "output_type": "execute_result"
    }
   ],
   "source": [
    "input_img"
   ]
  },
  {
   "cell_type": "code",
   "execution_count": 11,
   "metadata": {},
   "outputs": [],
   "source": [
    "conv_shape = (3, 3)"
   ]
  },
  {
   "cell_type": "code",
   "execution_count": 12,
   "metadata": {},
   "outputs": [
    {
     "name": "stdout",
     "output_type": "stream",
     "text": [
      "(None, 14, 14, 16)\n",
      "(None, 7, 7, 8)\n"
     ]
    }
   ],
   "source": [
    "x = Conv2D(16, conv_shape, activation='relu', padding='same')(input_img)\n",
    "x = MaxPooling2D((2, 2), padding='same')(x)\n",
    "print(x.shape)\n",
    "#\n",
    "# x = Conv2D(16, conv_shape, activation='relu', padding='same')(x)\n",
    "# x = MaxPooling2D((2, 2), padding=maxpad)(x)\n",
    "# print(x.shape)\n",
    "#\n",
    "x = Conv2D(8, conv_shape, activation='relu', padding='same')(x)\n",
    "encoded = MaxPooling2D((2, 2), padding='same', name='encoded')(x)\n",
    "print(encoded.shape)"
   ]
  },
  {
   "cell_type": "code",
   "execution_count": 13,
   "metadata": {},
   "outputs": [
    {
     "data": {
      "text/plain": [
       "<tf.Tensor 'encoded/Identity:0' shape=(None, 7, 7, 8) dtype=float32>"
      ]
     },
     "execution_count": 13,
     "metadata": {},
     "output_type": "execute_result"
    }
   ],
   "source": [
    "encoded"
   ]
  },
  {
   "cell_type": "code",
   "execution_count": 14,
   "metadata": {},
   "outputs": [
    {
     "name": "stdout",
     "output_type": "stream",
     "text": [
      "(None, 14, 14, 8)\n",
      "(None, 28, 28, 16)\n"
     ]
    },
    {
     "data": {
      "text/plain": [
       "TensorShape([None, 28, 28, 1])"
      ]
     },
     "execution_count": 14,
     "metadata": {},
     "output_type": "execute_result"
    }
   ],
   "source": [
    "x = Conv2D(8, conv_shape, activation='relu', padding='same')(encoded)\n",
    "x = UpSampling2D((2, 2))(x)\n",
    "print(x.shape)\n",
    "# x = Conv2D(16, conv_shape, activation='relu', padding='same')(x)\n",
    "# x = UpSampling2D((2, 2))(x)\n",
    "# #\n",
    "# x = Conv2D(16, conv_shape, activation='relu')(x)\n",
    "# x = UpSampling2D((2, 2))(x)\n",
    "x = Conv2D(16, conv_shape, activation='relu', padding='same')(x)\n",
    "x = UpSampling2D((2, 2))(x)\n",
    "print(x.shape)\n",
    "decoded = Conv2D(channels, conv_shape, activation='sigmoid', padding='same')(x)\n",
    "decoded.shape"
   ]
  },
  {
   "cell_type": "code",
   "execution_count": 15,
   "metadata": {},
   "outputs": [
    {
     "data": {
      "text/plain": [
       "<tf.Tensor 'conv2d_4/Identity:0' shape=(None, 28, 28, 1) dtype=float32>"
      ]
     },
     "execution_count": 15,
     "metadata": {},
     "output_type": "execute_result"
    }
   ],
   "source": [
    "decoded"
   ]
  },
  {
   "cell_type": "markdown",
   "metadata": {},
   "source": [
    "dimensionality reduction"
   ]
  },
  {
   "cell_type": "code",
   "execution_count": 16,
   "metadata": {},
   "outputs": [
    {
     "data": {
      "text/plain": [
       "2.0"
      ]
     },
     "execution_count": 16,
     "metadata": {},
     "output_type": "execute_result"
    }
   ],
   "source": [
    "IMG_HEIGHT * IMG_WIDTH / int(reduce(lambda x, y: x*y, np.asarray(encoded.shape[1:])))"
   ]
  },
  {
   "cell_type": "code",
   "execution_count": 17,
   "metadata": {},
   "outputs": [
    {
     "name": "stdout",
     "output_type": "stream",
     "text": [
      "Model: \"model\"\n",
      "_________________________________________________________________\n",
      "Layer (type)                 Output Shape              Param #   \n",
      "=================================================================\n",
      "input_1 (InputLayer)         [(None, 28, 28, 1)]       0         \n",
      "_________________________________________________________________\n",
      "conv2d (Conv2D)              (None, 28, 28, 16)        160       \n",
      "_________________________________________________________________\n",
      "max_pooling2d (MaxPooling2D) (None, 14, 14, 16)        0         \n",
      "_________________________________________________________________\n",
      "conv2d_1 (Conv2D)            (None, 14, 14, 8)         1160      \n",
      "_________________________________________________________________\n",
      "encoded (MaxPooling2D)       (None, 7, 7, 8)           0         \n",
      "_________________________________________________________________\n",
      "conv2d_2 (Conv2D)            (None, 7, 7, 8)           584       \n",
      "_________________________________________________________________\n",
      "up_sampling2d (UpSampling2D) (None, 14, 14, 8)         0         \n",
      "_________________________________________________________________\n",
      "conv2d_3 (Conv2D)            (None, 14, 14, 16)        1168      \n",
      "_________________________________________________________________\n",
      "up_sampling2d_1 (UpSampling2 (None, 28, 28, 16)        0         \n",
      "_________________________________________________________________\n",
      "conv2d_4 (Conv2D)            (None, 28, 28, 1)         145       \n",
      "=================================================================\n",
      "Total params: 3,217\n",
      "Trainable params: 3,217\n",
      "Non-trainable params: 0\n",
      "_________________________________________________________________\n"
     ]
    }
   ],
   "source": [
    "autoencoder = Model(input_img, decoded)\n",
    "autoencoder.compile(optimizer='adadelta', loss='mse')\n",
    "autoencoder.summary()"
   ]
  },
  {
   "cell_type": "code",
   "execution_count": 18,
   "metadata": {},
   "outputs": [],
   "source": [
    "log_dir = \"./logs/\" + datetime.now().strftime(\"%Y%m%d-%H%M%S\")\n",
    "tb_cb = TensorBoard(\n",
    "    log_dir=log_dir, \n",
    "    profile_batch=0)\n",
    "\n",
    "es_cb = EarlyStopping(\n",
    "    monitor='val_loss',\n",
    "    verbose=True,\n",
    "    patience=12,\n",
    "    min_delta=0.0001, \n",
    "    restore_best_weights=True)\n",
    "\n",
    "lr_cb = ReduceLROnPlateau(\n",
    "    monitor='val_loss',\n",
    "    verbose=True,\n",
    "    patience=8,\n",
    "    mi_delta=0.0001)\n",
    "\n",
    "cb = [tb_cb, es_cb, lr_cb]"
   ]
  },
  {
   "cell_type": "code",
   "execution_count": 19,
   "metadata": {},
   "outputs": [
    {
     "name": "stdout",
     "output_type": "stream",
     "text": [
      "Train on 60000 samples, validate on 10000 samples\n",
      "Epoch 1/250\n",
      "60000/60000 [==============================] - 10s 165us/sample - loss: 0.2369 - val_loss: 0.2301\n",
      "Epoch 2/250\n",
      "60000/60000 [==============================] - 8s 127us/sample - loss: 0.2201 - val_loss: 0.2043\n",
      "Epoch 3/250\n",
      "60000/60000 [==============================] - 8s 128us/sample - loss: 0.1722 - val_loss: 0.1461\n",
      "Epoch 4/250\n",
      "60000/60000 [==============================] - 8s 126us/sample - loss: 0.1331 - val_loss: 0.1271\n",
      "Epoch 5/250\n",
      "60000/60000 [==============================] - 8s 127us/sample - loss: 0.1208 - val_loss: 0.1179\n",
      "Epoch 6/250\n",
      "60000/60000 [==============================] - 8s 127us/sample - loss: 0.1108 - val_loss: 0.1059\n",
      "Epoch 7/250\n",
      "60000/60000 [==============================] - 8s 126us/sample - loss: 0.0978 - val_loss: 0.0921\n",
      "Epoch 8/250\n",
      "60000/60000 [==============================] - 8s 127us/sample - loss: 0.0851 - val_loss: 0.0801\n",
      "Epoch 9/250\n",
      "60000/60000 [==============================] - 8s 127us/sample - loss: 0.0736 - val_loss: 0.0685\n",
      "Epoch 10/250\n",
      "60000/60000 [==============================] - 8s 127us/sample - loss: 0.0631 - val_loss: 0.0592\n",
      "Epoch 11/250\n",
      "60000/60000 [==============================] - 8s 127us/sample - loss: 0.0558 - val_loss: 0.0534\n",
      "Epoch 12/250\n",
      "60000/60000 [==============================] - 8s 127us/sample - loss: 0.0513 - val_loss: 0.0499\n",
      "Epoch 13/250\n",
      "60000/60000 [==============================] - 8s 127us/sample - loss: 0.0485 - val_loss: 0.0474\n",
      "Epoch 14/250\n",
      "60000/60000 [==============================] - 8s 126us/sample - loss: 0.0463 - val_loss: 0.0453\n",
      "Epoch 15/250\n",
      "60000/60000 [==============================] - 8s 127us/sample - loss: 0.0443 - val_loss: 0.0433\n",
      "Epoch 16/250\n",
      "60000/60000 [==============================] - 8s 127us/sample - loss: 0.0424 - val_loss: 0.0414\n",
      "Epoch 17/250\n",
      "60000/60000 [==============================] - 8s 127us/sample - loss: 0.0405 - val_loss: 0.0394\n",
      "Epoch 18/250\n",
      "60000/60000 [==============================] - 8s 128us/sample - loss: 0.0387 - val_loss: 0.0376\n",
      "Epoch 19/250\n",
      "60000/60000 [==============================] - 8s 127us/sample - loss: 0.0369 - val_loss: 0.0358\n",
      "Epoch 20/250\n",
      "60000/60000 [==============================] - 8s 126us/sample - loss: 0.0352 - val_loss: 0.0342\n",
      "Epoch 21/250\n",
      "60000/60000 [==============================] - 8s 127us/sample - loss: 0.0337 - val_loss: 0.0328\n",
      "Epoch 22/250\n",
      "60000/60000 [==============================] - 8s 126us/sample - loss: 0.0324 - val_loss: 0.0315\n",
      "Epoch 23/250\n",
      "60000/60000 [==============================] - 8s 127us/sample - loss: 0.0312 - val_loss: 0.0304\n",
      "Epoch 24/250\n",
      "60000/60000 [==============================] - 8s 126us/sample - loss: 0.0302 - val_loss: 0.0295\n",
      "Epoch 25/250\n",
      "60000/60000 [==============================] - 8s 127us/sample - loss: 0.0294 - val_loss: 0.0287\n",
      "Epoch 26/250\n",
      "60000/60000 [==============================] - 8s 127us/sample - loss: 0.0286 - val_loss: 0.0279\n",
      "Epoch 27/250\n",
      "60000/60000 [==============================] - 8s 127us/sample - loss: 0.0279 - val_loss: 0.0273\n",
      "Epoch 28/250\n",
      "60000/60000 [==============================] - 8s 127us/sample - loss: 0.0273 - val_loss: 0.0267\n",
      "Epoch 29/250\n",
      "60000/60000 [==============================] - 8s 127us/sample - loss: 0.0268 - val_loss: 0.0262\n",
      "Epoch 30/250\n",
      "60000/60000 [==============================] - 8s 126us/sample - loss: 0.0263 - val_loss: 0.0257\n",
      "Epoch 31/250\n",
      "60000/60000 [==============================] - 8s 127us/sample - loss: 0.0258 - val_loss: 0.0253\n",
      "Epoch 32/250\n",
      "60000/60000 [==============================] - 8s 127us/sample - loss: 0.0254 - val_loss: 0.0248\n",
      "Epoch 33/250\n",
      "60000/60000 [==============================] - 8s 128us/sample - loss: 0.0250 - val_loss: 0.0244\n",
      "Epoch 34/250\n",
      "60000/60000 [==============================] - 8s 133us/sample - loss: 0.0246 - val_loss: 0.0240\n",
      "Epoch 35/250\n",
      "60000/60000 [==============================] - 8s 131us/sample - loss: 0.0242 - val_loss: 0.0237\n",
      "Epoch 36/250\n",
      "60000/60000 [==============================] - 8s 127us/sample - loss: 0.0239 - val_loss: 0.0233\n",
      "Epoch 37/250\n",
      "60000/60000 [==============================] - 8s 126us/sample - loss: 0.0235 - val_loss: 0.0230\n",
      "Epoch 38/250\n",
      "60000/60000 [==============================] - 8s 127us/sample - loss: 0.0232 - val_loss: 0.0226\n",
      "Epoch 39/250\n",
      "60000/60000 [==============================] - 8s 133us/sample - loss: 0.0229 - val_loss: 0.0223\n",
      "Epoch 40/250\n",
      "60000/60000 [==============================] - 8s 132us/sample - loss: 0.0225 - val_loss: 0.0220\n",
      "Epoch 41/250\n",
      "60000/60000 [==============================] - 8s 127us/sample - loss: 0.0222 - val_loss: 0.0217\n",
      "Epoch 42/250\n",
      "60000/60000 [==============================] - 8s 127us/sample - loss: 0.0219 - val_loss: 0.0214\n",
      "Epoch 43/250\n",
      "60000/60000 [==============================] - 8s 126us/sample - loss: 0.0217 - val_loss: 0.0211\n",
      "Epoch 44/250\n",
      "60000/60000 [==============================] - 8s 127us/sample - loss: 0.0214 - val_loss: 0.0209\n",
      "Epoch 45/250\n",
      "60000/60000 [==============================] - 8s 127us/sample - loss: 0.0211 - val_loss: 0.0206\n",
      "Epoch 46/250\n",
      "60000/60000 [==============================] - 8s 127us/sample - loss: 0.0209 - val_loss: 0.0203\n",
      "Epoch 47/250\n",
      "60000/60000 [==============================] - 8s 127us/sample - loss: 0.0206 - val_loss: 0.0201\n",
      "Epoch 48/250\n",
      "60000/60000 [==============================] - 8s 127us/sample - loss: 0.0204 - val_loss: 0.0198\n",
      "Epoch 49/250\n",
      "60000/60000 [==============================] - 8s 127us/sample - loss: 0.0201 - val_loss: 0.0196\n",
      "Epoch 50/250\n",
      "60000/60000 [==============================] - 8s 127us/sample - loss: 0.0199 - val_loss: 0.0194\n",
      "Epoch 51/250\n",
      "60000/60000 [==============================] - 8s 127us/sample - loss: 0.0197 - val_loss: 0.0192\n",
      "Epoch 52/250\n",
      "60000/60000 [==============================] - 8s 127us/sample - loss: 0.0195 - val_loss: 0.0190\n",
      "Epoch 53/250\n",
      "60000/60000 [==============================] - 8s 127us/sample - loss: 0.0193 - val_loss: 0.0188\n",
      "Epoch 54/250\n",
      "60000/60000 [==============================] - 8s 127us/sample - loss: 0.0191 - val_loss: 0.0186\n",
      "Epoch 55/250\n",
      "60000/60000 [==============================] - 8s 126us/sample - loss: 0.0189 - val_loss: 0.0184\n",
      "Epoch 56/250\n",
      "60000/60000 [==============================] - 8s 127us/sample - loss: 0.0187 - val_loss: 0.0182\n",
      "Epoch 57/250\n",
      "60000/60000 [==============================] - 8s 126us/sample - loss: 0.0185 - val_loss: 0.0180\n",
      "Epoch 58/250\n",
      "60000/60000 [==============================] - 8s 127us/sample - loss: 0.0183 - val_loss: 0.0178\n",
      "Epoch 59/250\n",
      "60000/60000 [==============================] - 8s 127us/sample - loss: 0.0182 - val_loss: 0.0177\n",
      "Epoch 60/250\n",
      "60000/60000 [==============================] - 8s 127us/sample - loss: 0.0180 - val_loss: 0.0175\n",
      "Epoch 61/250\n",
      "60000/60000 [==============================] - 8s 126us/sample - loss: 0.0178 - val_loss: 0.0174\n",
      "Epoch 62/250\n",
      "60000/60000 [==============================] - 8s 127us/sample - loss: 0.0177 - val_loss: 0.0172\n",
      "Epoch 63/250\n",
      "60000/60000 [==============================] - 8s 127us/sample - loss: 0.0175 - val_loss: 0.0171\n",
      "Epoch 64/250\n",
      "60000/60000 [==============================] - 8s 127us/sample - loss: 0.0174 - val_loss: 0.0169\n",
      "Epoch 65/250\n",
      "60000/60000 [==============================] - 8s 127us/sample - loss: 0.0173 - val_loss: 0.0168\n",
      "Epoch 66/250\n",
      "60000/60000 [==============================] - 8s 127us/sample - loss: 0.0171 - val_loss: 0.0167\n",
      "Epoch 67/250\n",
      "60000/60000 [==============================] - 8s 127us/sample - loss: 0.0170 - val_loss: 0.0165\n",
      "Epoch 68/250\n",
      "60000/60000 [==============================] - 8s 127us/sample - loss: 0.0169 - val_loss: 0.0164\n",
      "Epoch 69/250\n",
      "60000/60000 [==============================] - 8s 130us/sample - loss: 0.0168 - val_loss: 0.0163\n",
      "Epoch 70/250\n",
      "60000/60000 [==============================] - 8s 127us/sample - loss: 0.0166 - val_loss: 0.0162\n",
      "Epoch 71/250\n",
      "60000/60000 [==============================] - 8s 126us/sample - loss: 0.0165 - val_loss: 0.0161\n",
      "Epoch 72/250\n",
      "60000/60000 [==============================] - 8s 126us/sample - loss: 0.0164 - val_loss: 0.0160\n",
      "Epoch 73/250\n",
      "60000/60000 [==============================] - 8s 126us/sample - loss: 0.0163 - val_loss: 0.0159\n",
      "Epoch 74/250\n",
      "60000/60000 [==============================] - 8s 126us/sample - loss: 0.0162 - val_loss: 0.0158\n",
      "Epoch 75/250\n"
     ]
    },
    {
     "name": "stdout",
     "output_type": "stream",
     "text": [
      "60000/60000 [==============================] - 8s 126us/sample - loss: 0.0161 - val_loss: 0.0157\n",
      "Epoch 76/250\n",
      "60000/60000 [==============================] - 8s 126us/sample - loss: 0.0160 - val_loss: 0.0156\n",
      "Epoch 77/250\n",
      "60000/60000 [==============================] - 8s 127us/sample - loss: 0.0159 - val_loss: 0.0155\n",
      "Epoch 78/250\n",
      "60000/60000 [==============================] - 8s 126us/sample - loss: 0.0158 - val_loss: 0.0154\n",
      "Epoch 79/250\n",
      "60000/60000 [==============================] - 8s 126us/sample - loss: 0.0157 - val_loss: 0.0153\n",
      "Epoch 80/250\n",
      "60000/60000 [==============================] - 8s 126us/sample - loss: 0.0156 - val_loss: 0.0152\n",
      "Epoch 81/250\n",
      "60000/60000 [==============================] - 8s 127us/sample - loss: 0.0155 - val_loss: 0.0151\n",
      "Epoch 82/250\n",
      "60000/60000 [==============================] - 8s 126us/sample - loss: 0.0154 - val_loss: 0.0150\n",
      "Epoch 83/250\n",
      "60000/60000 [==============================] - 8s 126us/sample - loss: 0.0154 - val_loss: 0.0149\n",
      "Epoch 84/250\n",
      "60000/60000 [==============================] - 8s 127us/sample - loss: 0.0153 - val_loss: 0.0148\n",
      "Epoch 85/250\n",
      "60000/60000 [==============================] - 8s 127us/sample - loss: 0.0152 - val_loss: 0.0148\n",
      "Epoch 86/250\n",
      "60000/60000 [==============================] - 8s 127us/sample - loss: 0.0151 - val_loss: 0.0147\n",
      "Epoch 87/250\n",
      "60000/60000 [==============================] - 8s 126us/sample - loss: 0.0150 - val_loss: 0.0146\n",
      "Epoch 88/250\n",
      "60000/60000 [==============================] - 8s 126us/sample - loss: 0.0149 - val_loss: 0.0145\n",
      "Epoch 89/250\n",
      "60000/60000 [==============================] - 8s 126us/sample - loss: 0.0149 - val_loss: 0.0144\n",
      "Epoch 90/250\n",
      "60000/60000 [==============================] - 8s 126us/sample - loss: 0.0148 - val_loss: 0.0144\n",
      "Epoch 91/250\n",
      "60000/60000 [==============================] - 8s 127us/sample - loss: 0.0147 - val_loss: 0.0143\n",
      "Epoch 92/250\n",
      "60000/60000 [==============================] - 8s 126us/sample - loss: 0.0147 - val_loss: 0.0142\n",
      "Epoch 93/250\n",
      "60000/60000 [==============================] - 8s 126us/sample - loss: 0.0146 - val_loss: 0.0142\n",
      "Epoch 94/250\n",
      "60000/60000 [==============================] - 8s 126us/sample - loss: 0.0145 - val_loss: 0.0141\n",
      "Epoch 95/250\n",
      "60000/60000 [==============================] - 8s 127us/sample - loss: 0.0144 - val_loss: 0.0140\n",
      "Epoch 96/250\n",
      "60000/60000 [==============================] - 8s 126us/sample - loss: 0.0144 - val_loss: 0.0140\n",
      "Epoch 97/250\n",
      "60000/60000 [==============================] - 8s 126us/sample - loss: 0.0143 - val_loss: 0.0139\n",
      "Epoch 98/250\n",
      "60000/60000 [==============================] - 8s 126us/sample - loss: 0.0142 - val_loss: 0.0138\n",
      "Epoch 99/250\n",
      "60000/60000 [==============================] - 8s 126us/sample - loss: 0.0142 - val_loss: 0.0138\n",
      "Epoch 100/250\n",
      "60000/60000 [==============================] - 8s 126us/sample - loss: 0.0141 - val_loss: 0.0137\n",
      "Epoch 101/250\n",
      "60000/60000 [==============================] - 8s 126us/sample - loss: 0.0141 - val_loss: 0.0136\n",
      "Epoch 102/250\n",
      "60000/60000 [==============================] - 8s 126us/sample - loss: 0.0140 - val_loss: 0.0136\n",
      "Epoch 103/250\n",
      "60000/60000 [==============================] - 8s 126us/sample - loss: 0.0139 - val_loss: 0.0135\n",
      "Epoch 104/250\n",
      "60000/60000 [==============================] - 8s 126us/sample - loss: 0.0139 - val_loss: 0.0135\n",
      "Epoch 105/250\n",
      "60000/60000 [==============================] - 8s 126us/sample - loss: 0.0138 - val_loss: 0.0134\n",
      "Epoch 106/250\n",
      "60000/60000 [==============================] - 8s 127us/sample - loss: 0.0138 - val_loss: 0.0134\n",
      "Epoch 107/250\n",
      "60000/60000 [==============================] - 8s 126us/sample - loss: 0.0137 - val_loss: 0.0133\n",
      "Epoch 108/250\n",
      "60000/60000 [==============================] - 8s 126us/sample - loss: 0.0136 - val_loss: 0.0132\n",
      "Epoch 109/250\n",
      "60000/60000 [==============================] - 8s 126us/sample - loss: 0.0136 - val_loss: 0.0132\n",
      "Epoch 110/250\n",
      "60000/60000 [==============================] - 8s 126us/sample - loss: 0.0135 - val_loss: 0.0131\n",
      "Epoch 111/250\n",
      "60000/60000 [==============================] - 8s 127us/sample - loss: 0.0135 - val_loss: 0.0131\n",
      "Epoch 112/250\n",
      "60000/60000 [==============================] - 8s 127us/sample - loss: 0.0134 - val_loss: 0.0130\n",
      "Epoch 113/250\n",
      "60000/60000 [==============================] - 8s 127us/sample - loss: 0.0134 - val_loss: 0.0130\n",
      "Epoch 114/250\n",
      "60000/60000 [==============================] - 8s 128us/sample - loss: 0.0133 - val_loss: 0.0129\n",
      "Epoch 115/250\n",
      "60000/60000 [==============================] - 8s 131us/sample - loss: 0.0133 - val_loss: 0.0129\n",
      "Epoch 116/250\n",
      "60000/60000 [==============================] - 8s 140us/sample - loss: 0.0132 - val_loss: 0.0128\n",
      "Epoch 117/250\n",
      "60000/60000 [==============================] - 8s 135us/sample - loss: 0.0132 - val_loss: 0.0128\n",
      "Epoch 118/250\n",
      "60000/60000 [==============================] - 8s 135us/sample - loss: 0.0131 - val_loss: 0.0127\n",
      "Epoch 119/250\n",
      "60000/60000 [==============================] - 8s 135us/sample - loss: 0.0131 - val_loss: 0.0127\n",
      "Epoch 120/250\n",
      "60000/60000 [==============================] - 8s 137us/sample - loss: 0.0130 - val_loss: 0.0127\n",
      "Epoch 121/250\n",
      "60000/60000 [==============================] - 8s 136us/sample - loss: 0.0130 - val_loss: 0.0126\n",
      "Epoch 122/250\n",
      "60000/60000 [==============================] - 8s 134us/sample - loss: 0.0130 - val_loss: 0.0126\n",
      "Epoch 123/250\n",
      "60000/60000 [==============================] - 8s 136us/sample - loss: 0.0129 - val_loss: 0.0125\n",
      "Epoch 124/250\n",
      "60000/60000 [==============================] - 8s 135us/sample - loss: 0.0129 - val_loss: 0.0125\n",
      "Epoch 125/250\n",
      "60000/60000 [==============================] - 8s 135us/sample - loss: 0.0128 - val_loss: 0.0124\n",
      "Epoch 126/250\n",
      "60000/60000 [==============================] - 8s 135us/sample - loss: 0.0128 - val_loss: 0.0124\n",
      "Epoch 127/250\n",
      "60000/60000 [==============================] - 8s 133us/sample - loss: 0.0127 - val_loss: 0.0124\n",
      "Epoch 128/250\n",
      "60000/60000 [==============================] - 8s 134us/sample - loss: 0.0127 - val_loss: 0.0123\n",
      "Epoch 129/250\n",
      "60000/60000 [==============================] - 8s 133us/sample - loss: 0.0127 - val_loss: 0.0123\n",
      "Epoch 130/250\n",
      "60000/60000 [==============================] - 8s 134us/sample - loss: 0.0126 - val_loss: 0.0122\n",
      "Epoch 131/250\n",
      "60000/60000 [==============================] - 9s 148us/sample - loss: 0.0126 - val_loss: 0.0122\n",
      "Epoch 132/250\n",
      "60000/60000 [==============================] - 9s 146us/sample - loss: 0.0125 - val_loss: 0.0122\n",
      "Epoch 133/250\n",
      "60000/60000 [==============================] - 9s 144us/sample - loss: 0.0125 - val_loss: 0.0121\n",
      "Epoch 134/250\n",
      "60000/60000 [==============================] - 8s 138us/sample - loss: 0.0125 - val_loss: 0.0121\n",
      "Epoch 135/250\n",
      "60000/60000 [==============================] - 8s 139us/sample - loss: 0.0124 - val_loss: 0.0121\n",
      "Epoch 136/250\n",
      "60000/60000 [==============================] - 8s 141us/sample - loss: 0.0124 - val_loss: 0.0120\n",
      "Epoch 137/250\n",
      "60000/60000 [==============================] - 8s 141us/sample - loss: 0.0124 - val_loss: 0.0120\n",
      "Epoch 138/250\n",
      "60000/60000 [==============================] - 8s 133us/sample - loss: 0.0123 - val_loss: 0.0120\n",
      "Epoch 139/250\n",
      "60000/60000 [==============================] - 8s 135us/sample - loss: 0.0123 - val_loss: 0.0119\n",
      "Epoch 140/250\n",
      "60000/60000 [==============================] - 9s 142us/sample - loss: 0.0123 - val_loss: 0.0119\n",
      "Epoch 141/250\n",
      "60000/60000 [==============================] - 8s 128us/sample - loss: 0.0122 - val_loss: 0.0118\n",
      "Epoch 142/250\n",
      "60000/60000 [==============================] - 8s 126us/sample - loss: 0.0122 - val_loss: 0.0118\n",
      "Epoch 143/250\n",
      "60000/60000 [==============================] - 8s 126us/sample - loss: 0.0122 - val_loss: 0.0118\n",
      "Epoch 144/250\n",
      "60000/60000 [==============================] - 8s 126us/sample - loss: 0.0121 - val_loss: 0.0118\n",
      "Epoch 145/250\n",
      "60000/60000 [==============================] - 8s 126us/sample - loss: 0.0121 - val_loss: 0.0117\n",
      "Epoch 146/250\n",
      "60000/60000 [==============================] - 8s 126us/sample - loss: 0.0121 - val_loss: 0.0117\n",
      "Epoch 147/250\n",
      "60000/60000 [==============================] - 8s 126us/sample - loss: 0.0120 - val_loss: 0.0117\n",
      "Epoch 148/250\n",
      "60000/60000 [==============================] - 8s 126us/sample - loss: 0.0120 - val_loss: 0.0116\n",
      "Epoch 149/250\n",
      "60000/60000 [==============================] - 8s 126us/sample - loss: 0.0120 - val_loss: 0.0116\n",
      "Epoch 150/250\n",
      "60000/60000 [==============================] - 8s 126us/sample - loss: 0.0119 - val_loss: 0.0116\n",
      "Epoch 151/250\n",
      "60000/60000 [==============================] - 8s 126us/sample - loss: 0.0119 - val_loss: 0.0115\n",
      "Epoch 152/250\n",
      "60000/60000 [==============================] - 8s 126us/sample - loss: 0.0119 - val_loss: 0.0115\n",
      "Epoch 153/250\n",
      "60000/60000 [==============================] - 8s 126us/sample - loss: 0.0118 - val_loss: 0.0115\n",
      "Epoch 154/250\n",
      "60000/60000 [==============================] - 8s 127us/sample - loss: 0.0118 - val_loss: 0.0114\n",
      "Epoch 155/250\n",
      "60000/60000 [==============================] - 8s 127us/sample - loss: 0.0118 - val_loss: 0.0114\n",
      "Epoch 156/250\n",
      "60000/60000 [==============================] - 8s 127us/sample - loss: 0.0118 - val_loss: 0.0114\n",
      "Epoch 157/250\n",
      "60000/60000 [==============================] - 8s 126us/sample - loss: 0.0117 - val_loss: 0.0114\n",
      "Epoch 158/250\n",
      "60000/60000 [==============================] - 8s 126us/sample - loss: 0.0117 - val_loss: 0.0113\n",
      "Epoch 159/250\n",
      "60000/60000 [==============================] - 8s 127us/sample - loss: 0.0117 - val_loss: 0.0113\n",
      "Epoch 160/250\n",
      "60000/60000 [==============================] - 8s 127us/sample - loss: 0.0116 - val_loss: 0.0113\n",
      "Epoch 161/250\n",
      "60000/60000 [==============================] - 8s 126us/sample - loss: 0.0116 - val_loss: 0.0113\n",
      "Epoch 162/250\n",
      "60000/60000 [==============================] - 8s 127us/sample - loss: 0.0116 - val_loss: 0.0112\n",
      "Epoch 163/250\n",
      "60000/60000 [==============================] - 8s 127us/sample - loss: 0.0116 - val_loss: 0.0112\n",
      "Epoch 164/250\n",
      "60000/60000 [==============================] - 8s 126us/sample - loss: 0.0115 - val_loss: 0.0112\n",
      "Epoch 165/250\n",
      "60000/60000 [==============================] - 8s 126us/sample - loss: 0.0115 - val_loss: 0.0112\n",
      "Epoch 166/250\n",
      "60000/60000 [==============================] - 8s 126us/sample - loss: 0.0115 - val_loss: 0.0111\n",
      "Epoch 167/250\n",
      "60000/60000 [==============================] - 8s 126us/sample - loss: 0.0115 - val_loss: 0.0111\n",
      "Epoch 168/250\n",
      "60000/60000 [==============================] - 8s 127us/sample - loss: 0.0114 - val_loss: 0.0111\n",
      "Epoch 169/250\n",
      "60000/60000 [==============================] - 8s 126us/sample - loss: 0.0114 - val_loss: 0.0111\n",
      "Epoch 170/250\n",
      "60000/60000 [==============================] - 8s 126us/sample - loss: 0.0114 - val_loss: 0.0110\n",
      "Epoch 171/250\n",
      "60000/60000 [==============================] - 8s 127us/sample - loss: 0.0114 - val_loss: 0.0110\n",
      "Epoch 172/250\n",
      "60000/60000 [==============================] - 8s 126us/sample - loss: 0.0113 - val_loss: 0.0110\n",
      "Epoch 173/250\n",
      "60000/60000 [==============================] - 8s 126us/sample - loss: 0.0113 - val_loss: 0.0110\n",
      "Epoch 174/250\n",
      "60000/60000 [==============================] - 8s 126us/sample - loss: 0.0113 - val_loss: 0.0109\n",
      "Epoch 175/250\n",
      "60000/60000 [==============================] - 8s 127us/sample - loss: 0.0113 - val_loss: 0.0109\n",
      "Epoch 176/250\n",
      "60000/60000 [==============================] - 8s 126us/sample - loss: 0.0112 - val_loss: 0.0109\n",
      "Epoch 177/250\n",
      "60000/60000 [==============================] - 8s 126us/sample - loss: 0.0112 - val_loss: 0.0109\n",
      "Epoch 178/250\n",
      "60000/60000 [==============================] - 8s 126us/sample - loss: 0.0112 - val_loss: 0.0108\n",
      "Epoch 179/250\n",
      "60000/60000 [==============================] - 8s 127us/sample - loss: 0.0112 - val_loss: 0.0108\n",
      "Epoch 180/250\n",
      "60000/60000 [==============================] - 8s 127us/sample - loss: 0.0111 - val_loss: 0.0108\n",
      "Epoch 181/250\n",
      "60000/60000 [==============================] - 8s 127us/sample - loss: 0.0111 - val_loss: 0.0108\n",
      "Epoch 182/250\n",
      "60000/60000 [==============================] - 8s 126us/sample - loss: 0.0111 - val_loss: 0.0108\n",
      "Epoch 183/250\n",
      "60000/60000 [==============================] - 8s 127us/sample - loss: 0.0111 - val_loss: 0.0107\n",
      "Epoch 184/250\n",
      "60000/60000 [==============================] - 8s 127us/sample - loss: 0.0110 - val_loss: 0.0107\n",
      "Epoch 185/250\n",
      "60000/60000 [==============================] - 8s 126us/sample - loss: 0.0110 - val_loss: 0.0107\n",
      "Epoch 186/250\n",
      "60000/60000 [==============================] - 8s 126us/sample - loss: 0.0110 - val_loss: 0.0107\n",
      "Epoch 187/250\n",
      "60000/60000 [==============================] - 8s 127us/sample - loss: 0.0110 - val_loss: 0.0106\n",
      "Epoch 188/250\n",
      "60000/60000 [==============================] - 8s 126us/sample - loss: 0.0110 - val_loss: 0.0106\n",
      "Epoch 189/250\n",
      "60000/60000 [==============================] - 8s 126us/sample - loss: 0.0109 - val_loss: 0.0106\n",
      "Epoch 190/250\n",
      "60000/60000 [==============================] - 8s 126us/sample - loss: 0.0109 - val_loss: 0.0106\n",
      "Epoch 191/250\n",
      "60000/60000 [==============================] - 8s 126us/sample - loss: 0.0109 - val_loss: 0.0106\n",
      "Epoch 192/250\n",
      "60000/60000 [==============================] - 8s 126us/sample - loss: 0.0109 - val_loss: 0.0105\n",
      "Epoch 193/250\n",
      "60000/60000 [==============================] - 8s 126us/sample - loss: 0.0109 - val_loss: 0.0105\n",
      "Epoch 194/250\n",
      "60000/60000 [==============================] - 8s 126us/sample - loss: 0.0108 - val_loss: 0.0105\n",
      "Epoch 195/250\n",
      "60000/60000 [==============================] - 8s 126us/sample - loss: 0.0108 - val_loss: 0.0105\n",
      "Epoch 196/250\n",
      "60000/60000 [==============================] - 8s 126us/sample - loss: 0.0108 - val_loss: 0.0105\n",
      "Epoch 197/250\n",
      "60000/60000 [==============================] - 8s 127us/sample - loss: 0.0108 - val_loss: 0.0104\n",
      "Epoch 198/250\n",
      "60000/60000 [==============================] - 8s 126us/sample - loss: 0.0108 - val_loss: 0.0104\n",
      "Epoch 199/250\n",
      "60000/60000 [==============================] - 8s 127us/sample - loss: 0.0107 - val_loss: 0.0104\n",
      "Epoch 200/250\n",
      "60000/60000 [==============================] - 8s 126us/sample - loss: 0.0107 - val_loss: 0.0104\n",
      "Epoch 201/250\n",
      "60000/60000 [==============================] - 8s 126us/sample - loss: 0.0107 - val_loss: 0.0104\n",
      "Epoch 202/250\n",
      "60000/60000 [==============================] - 8s 126us/sample - loss: 0.0107 - val_loss: 0.0104\n",
      "Epoch 203/250\n",
      "60000/60000 [==============================] - 8s 127us/sample - loss: 0.0107 - val_loss: 0.0103\n",
      "Epoch 204/250\n",
      "60000/60000 [==============================] - 8s 126us/sample - loss: 0.0106 - val_loss: 0.0103\n",
      "Epoch 205/250\n",
      "60000/60000 [==============================] - 8s 126us/sample - loss: 0.0106 - val_loss: 0.0103\n",
      "Epoch 206/250\n",
      "60000/60000 [==============================] - 8s 126us/sample - loss: 0.0106 - val_loss: 0.0103\n",
      "Epoch 207/250\n",
      "60000/60000 [==============================] - 8s 126us/sample - loss: 0.0106 - val_loss: 0.0103\n",
      "Epoch 208/250\n",
      "60000/60000 [==============================] - 8s 126us/sample - loss: 0.0106 - val_loss: 0.0102\n",
      "Epoch 209/250\n",
      "60000/60000 [==============================] - 8s 126us/sample - loss: 0.0106 - val_loss: 0.0102\n",
      "Epoch 210/250\n",
      "60000/60000 [==============================] - 8s 126us/sample - loss: 0.0105 - val_loss: 0.0102\n",
      "Epoch 211/250\n",
      "60000/60000 [==============================] - 8s 126us/sample - loss: 0.0105 - val_loss: 0.0102\n",
      "Epoch 212/250\n",
      "60000/60000 [==============================] - 8s 127us/sample - loss: 0.0105 - val_loss: 0.0102\n",
      "Epoch 213/250\n",
      "60000/60000 [==============================] - 8s 126us/sample - loss: 0.0105 - val_loss: 0.0102\n",
      "Epoch 214/250\n",
      "60000/60000 [==============================] - 8s 126us/sample - loss: 0.0105 - val_loss: 0.0101\n",
      "Epoch 215/250\n",
      "60000/60000 [==============================] - 8s 126us/sample - loss: 0.0105 - val_loss: 0.0101\n",
      "Epoch 216/250\n",
      "60000/60000 [==============================] - 8s 126us/sample - loss: 0.0104 - val_loss: 0.0101\n",
      "Epoch 217/250\n",
      "60000/60000 [==============================] - 8s 126us/sample - loss: 0.0104 - val_loss: 0.0101\n",
      "Epoch 218/250\n",
      "60000/60000 [==============================] - 8s 126us/sample - loss: 0.0104 - val_loss: 0.0101\n",
      "Epoch 219/250\n",
      "60000/60000 [==============================] - 8s 126us/sample - loss: 0.0104 - val_loss: 0.0101\n",
      "Epoch 220/250\n",
      "60000/60000 [==============================] - 8s 127us/sample - loss: 0.0104 - val_loss: 0.0100\n",
      "Epoch 221/250\n",
      "60000/60000 [==============================] - 8s 127us/sample - loss: 0.0104 - val_loss: 0.0100\n",
      "Epoch 222/250\n",
      "60000/60000 [==============================] - 8s 127us/sample - loss: 0.0103 - val_loss: 0.0100\n"
     ]
    },
    {
     "name": "stdout",
     "output_type": "stream",
     "text": [
      "Epoch 223/250\n",
      "60000/60000 [==============================] - 8s 127us/sample - loss: 0.0103 - val_loss: 0.0100\n",
      "Epoch 224/250\n",
      "60000/60000 [==============================] - 8s 127us/sample - loss: 0.0103 - val_loss: 0.0100\n",
      "Epoch 225/250\n",
      "60000/60000 [==============================] - 8s 127us/sample - loss: 0.0103 - val_loss: 0.0100\n",
      "Epoch 226/250\n",
      "60000/60000 [==============================] - 8s 126us/sample - loss: 0.0103 - val_loss: 0.0100\n",
      "Epoch 227/250\n",
      "60000/60000 [==============================] - 8s 136us/sample - loss: 0.0103 - val_loss: 0.0099\n",
      "Epoch 228/250\n",
      "60000/60000 [==============================] - 8s 126us/sample - loss: 0.0102 - val_loss: 0.0099\n",
      "Epoch 229/250\n",
      "60000/60000 [==============================] - 8s 126us/sample - loss: 0.0102 - val_loss: 0.0099\n",
      "Epoch 230/250\n",
      "60000/60000 [==============================] - 8s 126us/sample - loss: 0.0102 - val_loss: 0.0099\n",
      "Epoch 231/250\n",
      "60000/60000 [==============================] - 8s 127us/sample - loss: 0.0102 - val_loss: 0.0099\n",
      "Epoch 232/250\n",
      "60000/60000 [==============================] - 8s 126us/sample - loss: 0.0102 - val_loss: 0.0099\n",
      "Epoch 233/250\n",
      "60000/60000 [==============================] - 8s 126us/sample - loss: 0.0102 - val_loss: 0.0099\n",
      "Epoch 234/250\n",
      "60000/60000 [==============================] - 8s 136us/sample - loss: 0.0102 - val_loss: 0.0098\n",
      "Epoch 235/250\n",
      "60000/60000 [==============================] - 8s 126us/sample - loss: 0.0101 - val_loss: 0.0098\n",
      "Epoch 236/250\n",
      "60000/60000 [==============================] - 8s 127us/sample - loss: 0.0101 - val_loss: 0.0098\n",
      "Epoch 237/250\n",
      "60000/60000 [==============================] - 8s 127us/sample - loss: 0.0101 - val_loss: 0.0098\n",
      "Epoch 238/250\n",
      "60000/60000 [==============================] - 8s 126us/sample - loss: 0.0101 - val_loss: 0.0098\n",
      "Epoch 239/250\n",
      "60000/60000 [==============================] - 8s 126us/sample - loss: 0.0101 - val_loss: 0.0098\n",
      "Epoch 240/250\n",
      "60000/60000 [==============================] - 8s 127us/sample - loss: 0.0101 - val_loss: 0.0098\n",
      "Epoch 241/250\n",
      "60000/60000 [==============================] - 8s 126us/sample - loss: 0.0101 - val_loss: 0.0097\n",
      "Epoch 242/250\n",
      "60000/60000 [==============================] - 8s 126us/sample - loss: 0.0100 - val_loss: 0.0097\n",
      "Epoch 243/250\n",
      "60000/60000 [==============================] - 8s 127us/sample - loss: 0.0100 - val_loss: 0.0097\n",
      "Epoch 244/250\n",
      "60000/60000 [==============================] - 8s 126us/sample - loss: 0.0100 - val_loss: 0.0097\n",
      "Epoch 245/250\n",
      "60000/60000 [==============================] - 8s 126us/sample - loss: 0.0100 - val_loss: 0.0097\n",
      "Epoch 246/250\n",
      "60000/60000 [==============================] - 8s 127us/sample - loss: 0.0100 - val_loss: 0.0097\n",
      "Epoch 247/250\n",
      "60000/60000 [==============================] - 8s 127us/sample - loss: 0.0100 - val_loss: 0.0097\n",
      "Epoch 248/250\n",
      "60000/60000 [==============================] - 8s 126us/sample - loss: 0.0100 - val_loss: 0.0096\n",
      "Epoch 249/250\n",
      "60000/60000 [==============================] - 8s 127us/sample - loss: 0.0099 - val_loss: 0.0096\n",
      "Epoch 250/250\n",
      "60000/60000 [==============================] - 8s 126us/sample - loss: 0.0099 - val_loss: 0.0096\n"
     ]
    }
   ],
   "source": [
    "epochs = 250\n",
    "\n",
    "autoencoder_train = autoencoder.fit(\n",
    "    x=x_train, \n",
    "    y=x_train,\n",
    "    epochs=epochs, \n",
    "    shuffle=True,\n",
    "    validation_data=(x_test, x_test),\n",
    "    callbacks=cb)"
   ]
  },
  {
   "cell_type": "code",
   "execution_count": 20,
   "metadata": {},
   "outputs": [],
   "source": [
    "saved = False\n",
    "if not saved:\n",
    "    autoencoder.save('./ae_model_{}.hdf5'.format(epochs))\n",
    "    saved = True"
   ]
  },
  {
   "cell_type": "code",
   "execution_count": 21,
   "metadata": {},
   "outputs": [],
   "source": [
    "id_test = np.random.choice(range(x_test.shape[0]), 10)"
   ]
  },
  {
   "cell_type": "code",
   "execution_count": 22,
   "metadata": {},
   "outputs": [
    {
     "data": {
      "text/plain": [
       "(28, 28, 1)"
      ]
     },
     "execution_count": 22,
     "metadata": {},
     "output_type": "execute_result"
    }
   ],
   "source": [
    "x_test[0,:,:,:].shape"
   ]
  },
  {
   "cell_type": "code",
   "execution_count": 23,
   "metadata": {},
   "outputs": [],
   "source": [
    "pred = autoencoder.predict(x_test[0:1,:,:,:])"
   ]
  },
  {
   "cell_type": "code",
   "execution_count": 24,
   "metadata": {},
   "outputs": [
    {
     "data": {
      "text/plain": [
       "(1, 28, 28, 1)"
      ]
     },
     "execution_count": 24,
     "metadata": {},
     "output_type": "execute_result"
    }
   ],
   "source": [
    "pred.shape"
   ]
  },
  {
   "cell_type": "code",
   "execution_count": 25,
   "metadata": {},
   "outputs": [
    {
     "data": {
      "image/png": "[encoded data removed]",
      "text/plain": [
       "<Figure size 432x288 with 2 Axes>"
      ]
     },
     "metadata": {
      "needs_background": "light"
     },
     "output_type": "display_data"
    },
    {
     "data": {
      "image/png": "[encoded data removed]",
      "text/plain": [
       "<Figure size 432x288 with 2 Axes>"
      ]
     },
     "metadata": {
      "needs_background": "light"
     },
     "output_type": "display_data"
    },
    {
     "data": {
      "image/png": "[encoded data removed]",
      "text/plain": [
       "<Figure size 432x288 with 2 Axes>"
      ]
     },
     "metadata": {
      "needs_background": "light"
     },
     "output_type": "display_data"
    },
    {
     "data": {
      "image/png": "[encoded data removed]",
      "text/plain": [
       "<Figure size 432x288 with 2 Axes>"
      ]
     },
     "metadata": {
      "needs_background": "light"
     },
     "output_type": "display_data"
    },
    {
     "data": {
      "image/png": "[encoded data removed]",
      "text/plain": [
       "<Figure size 432x288 with 2 Axes>"
      ]
     },
     "metadata": {
      "needs_background": "light"
     },
     "output_type": "display_data"
    },
    {
     "data": {
      "image/png": "[encoded data removed]",
      "text/plain": [
       "<Figure size 432x288 with 2 Axes>"
      ]
     },
     "metadata": {
      "needs_background": "light"
     },
     "output_type": "display_data"
    },
    {
     "data": {
      "image/png": "[encoded data removed]",
      "text/plain": [
       "<Figure size 432x288 with 2 Axes>"
      ]
     },
     "metadata": {
      "needs_background": "light"
     },
     "output_type": "display_data"
    },
    {
     "data": {
      "image/png": "[encoded data removed]",
      "text/plain": [
       "<Figure size 432x288 with 2 Axes>"
      ]
     },
     "metadata": {
      "needs_background": "light"
     },
     "output_type": "display_data"
    },
    {
     "data": {
      "image/png": "[encoded data removed]",
      "text/plain": [
       "<Figure size 432x288 with 2 Axes>"
      ]
     },
     "metadata": {
      "needs_background": "light"
     },
     "output_type": "display_data"
    },
    {
     "data": {
      "image/png": "[encoded data removed]",
      "text/plain": [
       "<Figure size 432x288 with 2 Axes>"
      ]
     },
     "metadata": {
      "needs_background": "light"
     },
     "output_type": "display_data"
    }
   ],
   "source": [
    "for i in id_test:\n",
    "    tmp_im = x_test[i:i+1,:,:,:]\n",
    "    tmp_pred = autoencoder.predict(tmp_im)\n",
    "    plt.figure()\n",
    "    plt.subplot(1,2,1)\n",
    "    plt.imshow(tmp_im[0,:,:,0])\n",
    "    plt.subplot(1,2,2)\n",
    "    plt.imshow(tmp_pred[0,:,:,0])    "
   ]
  },
  {
   "cell_type": "code",
   "execution_count": null,
   "metadata": {},
   "outputs": [],
   "source": []
  }
 ],
 "metadata": {
  "kernelspec": {
   "display_name": "Python 3",
   "language": "python",
   "name": "python3"
  },
  "language_info": {
   "codemirror_mode": {
    "name": "ipython",
    "version": 3
   },
   "file_extension": ".py",
   "mimetype": "text/x-python",
   "name": "python",
   "nbconvert_exporter": "python",
   "pygments_lexer": "ipython3",
   "version": "3.7.6"
  }
 },
 "nbformat": 4,
 "nbformat_minor": 4
}
